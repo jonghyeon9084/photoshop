# ───────────────────────────────────────────────────────────────────────────────
# 0) (필요 시) 런타임 초기화 후 새로 시작하세요.
# ───────────────────────────────────────────────────────────────────────────────

# ───────────────────────────────────────────────────────────────────────────────
# 1) 필수 패키지 설치
# ───────────────────────────────────────────────────────────────────────────────
!pip install --quiet numpy==1.24.4
!pip install --quiet torch==2.0.1+cu118 torchvision==0.15.2+cu118 \
    --index-url https://download.pytorch.org/whl/cu118
!pip install --quiet basicsr facexlib gfpgan opencv-python

# ───────────────────────────────────────────────────────────────────────────────
# 2) Real-ESRGAN 소스 클론 및 설치
# ───────────────────────────────────────────────────────────────────────────────
!git clone https://github.com/xinntao/Real-ESRGAN.git
%cd Real-ESRGAN
!pip install --quiet -r requirements.txt
!python setup.py develop >/dev/null

# ───────────────────────────────────────────────────────────────────────────────
# 3) Google Drive 마운트 및 모델 weight 복사
# ───────────────────────────────────────────────────────────────────────────────
from google.colab import drive
drive.mount('/content/drive', force_remount=True)

import os, shutil
os.makedirs('weights', exist_ok=True)

# 드라이브 내 실제 경로(업로드한 위치)에 맞게 수정하세요
# 예: '/content/drive/MyDrive/Colab Notebooks/RealESRGAN_x4plus.pth'
src = '/content/drive/MyDrive/Colab Notebooks/RealESRGAN_x4plus.pth'
dst = 'weights/RealESRGAN_x4plus.pth'
shutil.copy(src, dst)
print("✅ weights 폴더 내용:", os.listdir('weights'))

# ───────────────────────────────────────────────────────────────────────────────
# 4) 업스케일 실행
# ───────────────────────────────────────────────────────────────────────────────
import torch, cv2
from basicsr.archs.rrdbnet_arch import RRDBNet
from realesrgan import RealESRGANer
from google.colab import files

# 4.1) 업스케일할 이미지 업로드
print("👉 업스케일할 이미지를 업로드하세요")
uploaded = files.upload()
in_path = next(iter(uploaded))                # 업로드된 파일명
out_path = 'upscaled_' + in_path              # 결과 파일명

# 4.2) 장치 및 RealESRGANer 객체 준비 (tile 분할로 메모리 절약)
device = torch.device('cuda' if torch.cuda.is_available() else 'cpu')
model = RealESRGANer(
    scale=4,
    model_path='weights/RealESRGAN_x4plus.pth',
    model=RRDBNet(3,3,64,23,32,4),
    tile=512,        # 512×512 블록으로 분할
    tile_pad=40,     # 블록 간 경계 패딩
    pre_pad=0,
    half=True,
    device=device
)
print("✅ RealESRGANer 로드 완료 (tile=512)")

# 4.3) 이미지 읽고 업스케일 실행
img = cv2.imread(in_path, cv2.IMREAD_COLOR)
print("🚀 업스케일 시작...")
output, _ = model.enhance(img, outscale=4)    # outscale=4 배율

# 4.4) 결과 저장 & 다운로드
cv2.imwrite(out_path, output)
print(f"🎉 업스케일 완료: {out_path}")
files.download(out_path)
