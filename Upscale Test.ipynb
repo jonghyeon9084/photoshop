# ───────────────────────────────────────────────────────────────────────────────
# 1) 필수 패키지 설치
# ───────────────────────────────────────────────────────────────────────────────
!pip install --quiet numpy==1.24.4
!pip install --quiet torch==2.0.1+cu118 torchvision==0.15.2+cu118 --index-url https://download.pytorch.org/whl/cu118
!pip install --quiet basicsr facexlib gfpgan opencv-python

# ───────────────────────────────────────────────────────────────────────────────
# 2) Real-ESRGAN 소스 클론 및 설치
# ───────────────────────────────────────────────────────────────────────────────
!git clone https://github.com/xinntao/Real-ESRGAN.git
%cd Real-ESRGAN
!pip install --quiet -r requirements.txt
!python setup.py develop >/dev/null

# ───────────────────────────────────────────────────────────────────────────────
# 3) Google Drive 마운트 및 모델 weight 복사
# ───────────────────────────────────────────────────────────────────────────────
from google.colab import drive
import os, shutil, torch

drive.mount('/content/drive', force_remount=True)

# weights 폴더 준비
os.makedirs('weights', exist_ok=True)

# 드라이브 내 본인 파일 경로로 수정
src = '/content/drive/MyDrive/Colab Notebooks/RealESRGAN_x4plus.pth'  # 네가 받은 x4 모델 파일
dst = 'weights/RealESRGAN_x4plus.pth'
shutil.copy(src, dst)

# KeyError 방지용 체크포인트 래핑
ckpt = torch.load(dst, map_location='cpu')
if isinstance(ckpt, dict) and 'params' not in ckpt and 'params_ema' not in ckpt:
    torch.save({'params': ckpt}, dst)
print("weights 폴더 내용:", os.listdir('weights'))

# ───────────────────────────────────────────────────────────────────────────────
# 4) 업스케일 실행
# ───────────────────────────────────────────────────────────────────────────────
import cv2
import torch
from basicsr.archs.rrdbnet_arch import RRDBNet
from realesrgan import RealESRGANer
from google.colab import files

# 4.1) 업스케일할 이미지 업로드
print("▶ 업스케일할 이미지를 업로드하세요")
uploaded = files.upload()
in_path = next(iter(uploaded))             # 업로드된 파일명
out_path = 'upscaled_' + in_path           # 저장될 파일명

# 4.2) RealESRGANer 객체 생성
device = torch.device('cuda' if torch.cuda.is_available() else 'cpu')
half = (device.type == 'cuda')

# 모델 로드
# Check if the model file exists and is accessible
if not os.path.exists(dst):
    raise FileNotFoundError(f"Model file not found at: {dst}")

# Print the model path to verify it's correct
print(f"Loading model from: {dst}") 

# Explicitly create the RRDBNet model instance
model = RRDBNet(num_in_ch=3, num_out_ch=3, num_feat=64, num_block=23, num_grow_ch=32, scale=4)

# Create the RealESRGANer with the model instance
RealESRGANer_model = RealESRGANer(
    scale=4,
    model_path=dst,
    model=model,  # Pass the model instance
    tile=512,
    tile_pad=40,
    pre_pad=0,
    half=half,
    device=device
)
print(f"★ RealESRGANer 로드 완료 (device={device}, half={half})")

# 4.3) 업스케일 실행
img = cv2.imread(in_path, cv2.IMREAD_COLOR)
print("◆ 업스케일 시작...")
output, _ = RealESRGANer_model.enhance(img, outscale=4) # Use RealESRGANer_model here

# 4.4) 결과 저장 & 다운로드
cv2.imwrite(out_path, output)
print(f"▣ 업스케일 완료: {out_path}")
files.download(out_path)
