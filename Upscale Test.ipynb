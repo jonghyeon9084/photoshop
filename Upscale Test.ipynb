# 필요한 패키지 설치
!pip install basicsr facexlib gfpgan realesrgan opencv-python-headless

# 파일 업로드
from google.colab import files

print("업스케일할 이미지를 업로드하세요")
uploaded = files.upload()

# 업로드된 파일명 얻기
file_name = next(iter(uploaded))

print(f"업로드 완료: {file_name}")

# Real-ESRGAN 모델 불러오기
from realesrgan import RealESRGANer
import torch
import cv2

device = torch.device('cuda' if torch.cuda.is_available() else 'cpu')

model = RealESRGANer(
    scale=4,
    model_path='https://github.com/xinntao/Real-ESRGAN/releases/download/v0.2.5/RealESRGAN_x4plus.pth',
    model_name='RealESRGAN_x4plus',
    device=device
)

# 업로드한 이미지 읽고 업스케일
img = cv2.imread(file_name, cv2.IMREAD_COLOR)

print("업스케일링 시작 중...")
output, _ = model.enhance(img, outscale=4)
print("업스케일링 완료")

# 결과 저장
output_file = f"upscaled_{file_name}"
cv2.imwrite(output_file, output)
print(f"결과 저장: {output_file}")

# 결과 비교 시각화
from matplotlib import pyplot as plt

plt.figure(figsize=(10,5))
plt.subplot(1,2,1)
plt.title("Original")
plt.imshow(cv2.cvtColor(img, cv2.COLOR_BGR2RGB))
plt.axis('off')

plt.subplot(1,2,2)
plt.title("Upscaled")
plt.imshow(cv2.cvtColor(output, cv2.COLOR_BGR2RGB))
plt.axis('off')

plt.show()

# 결과 파일 다운로드 링크 제공
from google.colab import files
files.download(output_file)
