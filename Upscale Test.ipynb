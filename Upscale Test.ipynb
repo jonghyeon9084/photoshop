# numpy 다운그레이드
!pip install numpy==1.24.4

# 최신 버전 충돌 방지를 위해 Pytorch / torchvision 다운그레이드
!pip install torch==2.0.1 torchvision==0.15.2 --index-url https://download.pytorch.org/whl/cu118

# 필요한 패키지 깔끔하게 다시 설치
!git clone https://github.com/xinntao/Real-ESRGAN.git
%cd Real-ESRGAN
!pip install -r requirements.txt
!python setup.py develop

# 모델 파일 다운로드 (x4 업스케일용)
!mkdir -p weights
!wget https://github.com/xinntao/Real-ESRGAN/releases/download/v0.2.5.0/RealESRGAN_x4plus.pth -P weights

# 내 사진 업로드
from google.colab import files

print("업스케일할 이미지를 업로드하세요")
uploaded = files.upload()

file_name = next(iter(uploaded))  # 업로드한 파일 이름 가져오기
print(f"업로드 완료: {file_name}")

# 모델 불러오기 및 업스케일
from realesrgan import RealESRGANer
import torch
import cv2

device = torch.device('cuda' if torch.cuda.is_available() else 'cpu')

model = RealESRGANer(
    scale=4,
    model_path='weights/RealESRGAN_x4plus.pth',
    model_name='RealESRGAN_x4plus',
    device=device
)

# 이미지 읽기
img = cv2.imread(file_name, cv2.IMREAD_COLOR)

print("업스케일링 시작 중...")
output, _ = model.enhance(img, outscale=4)
print("업스케일링 완료")

# 결과 저장
output_file = f"upscaled_{file_name}"
cv2.imwrite(output_file, output)
print(f"결과 저장: {output_file}")

# 결과 비교 시각화
from matplotlib import pyplot as plt

plt.figure(figsize=(10,5))
plt.subplot(1,2,1)
plt.title("Original")
plt.imshow(cv2.cvtColor(img, cv2.COLOR_BGR2RGB))
plt.axis('off')

plt.subplot(1,2,2)
plt.title("Upscaled")
plt.imshow(cv2.cvtColor(output, cv2.COLOR_BGR2RGB))
plt.axis('off')

plt.show()

# 결과 다운로드
files.download(output_file)
